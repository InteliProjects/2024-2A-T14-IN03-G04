{
  "cells": [
    {
      "cell_type": "markdown",
      "metadata": {
        "id": "50lWeMFt4vhT"
      },
      "source": [
        "### **Introdução**"
      ]
    },
    {
      "cell_type": "markdown",
      "metadata": {
        "id": "8WM84w7G4Od_"
      },
      "source": [
        "O presente documento tem como objetivo principal treinar e avaliar modelos preditivos, visando responder as perguntas: *\"Qual será o placar final?\", \"Qual o Total de Gols da partida?\" e \"Quem será o vencedor do jogo?\"*, do grupo Mestres do Placar, no projeto para a IBM.\n",
        "\n",
        "O projeto está dividido em várias etapas que incluem a preparação dos dados, criação de modelos de classificação, previsão de vencedores e gols, além da avaliação do desempenho dos modelos usando métricas tradicionais e matrizes de confusão.\n",
        "\n",
        "- Total de Gols\n",
        "*   Vencedor do Jogo\n",
        "*   Gols de Casa e Visitantes\n"
      ]
    },
    {
      "cell_type": "markdown",
      "metadata": {
        "id": "5ze6DQgtn2R4"
      },
      "source": [
        "### **0. Análise de diferentes modelos**\n",
        "\n",
        "Nesta célula, é realizada a análise de diferentes modelos de machine learning, com foco no Random Forest como modelo candidato.\n",
        "\n"
      ]
    },
    {
      "cell_type": "code",
      "execution_count": null,
      "metadata": {
        "colab": {
          "base_uri": "https://localhost:8080/"
        },
        "id": "h0HxfYssnxzw",
        "outputId": "c1e4ddcf-4ef3-4600-8fa9-5c26d4f39b31"
      },
      "outputs": [],
      "source": [
        "# Importação das bibliotecas\n",
        "import pandas as pd\n",
        "from sklearn.model_selection import train_test_split\n",
        "from sklearn.ensemble import RandomForestRegressor\n",
        "from sklearn.linear_model import LinearRegression\n",
        "from sklearn.metrics import mean_squared_error, r2_score\n",
        "import numpy as np\n",
        "\n",
        "# Função para avaliar modelos\n",
        "def avaliar_modelo(modelo, X_train, X_test, y_train, y_test, nome_modelo):\n",
        "    # Treina o modelo\n",
        "    modelo.fit(X_train, y_train)\n",
        "    # Faz as previsões\n",
        "    y_pred = modelo.predict(X_test)\n",
        "    # Calcula o RMSE e o R²\n",
        "    rmse = np.sqrt(mean_squared_error(y_test, y_pred))\n",
        "    r2 = r2_score(y_test, y_pred)\n",
        "    print(f\"{nome_modelo} - RMSE: {rmse}, R²: {r2}\")\n",
        "    return rmse, r2\n",
        "\n",
        "# Carregar os dados\n",
        "df = pd.read_csv('arquivo_codificado.csv')\n",
        "\n",
        "# Definir as features e os alvos\n",
        "features = ['home_team_name_mapeado', 'away_team_name_mapeado', 'Home Team Pre-Match xG',\n",
        "            'Away Team Pre-Match xG', 'home_team_shots_on_target', 'away_team_shots_on_target',\n",
        "            'minutes_per_goal_scored_overall', 'minutes_per_goal_conceded_overall',\n",
        "            'average_attendance_home', 'average_attendance_away']\n",
        "\n",
        "X = df[features]\n",
        "y_home = df['home_team_goal_count']\n",
        "y_away = df['away_team_goal_count']\n",
        "\n",
        "# Dividir os dados em treino e teste\n",
        "X_train, X_test, y_home_train, y_home_test = train_test_split(X, y_home, test_size=0.2, random_state=42)\n",
        "_, _, y_away_train, y_away_test = train_test_split(X, y_away, test_size=0.2, random_state=42)\n",
        "\n",
        "\n",
        "modelos = {\n",
        "    'RandomForest - Casa': RandomForestRegressor(n_estimators=100, random_state=42),\n",
        "    'RandomForest - Visitante': RandomForestRegressor(n_estimators=100, random_state=42),\n",
        "    'LinearRegression - Casa': LinearRegression(),\n",
        "    'LinearRegression - Visitante': LinearRegression()\n",
        "}\n",
        "\n",
        "# Avaliar os modelos\n",
        "resultados = []\n",
        "for nome_modelo, modelo in modelos.items():\n",
        "    if 'Casa' in nome_modelo:\n",
        "        rmse, r2 = avaliar_modelo(modelo, X_train, X_test, y_home_train, y_home_test, nome_modelo)\n",
        "    else:\n",
        "        rmse, r2 = avaliar_modelo(modelo, X_train, X_test, y_away_train, y_away_test, nome_modelo)\n",
        "    resultados.append({'Modelo': nome_modelo, 'RMSE': rmse, 'R²': r2})\n",
        "\n",
        "# Criar um DataFrame com os resultados\n",
        "df_resultados = pd.DataFrame(resultados)\n",
        "print(df_resultados)\n"
      ]
    },
    {
      "cell_type": "markdown",
      "metadata": {
        "id": "Nv_-PlvZvOiN"
      },
      "source": [
        "Após a escolha de um modelo para seguir, aqui iremos começar com a importação das ferramentas necessárias e carregamento dos dados.\n"
      ]
    },
    {
      "cell_type": "markdown",
      "metadata": {
        "id": "e8FpE1lFdeU5"
      },
      "source": [
        "### **1. Importação das Bibliotecas**"
      ]
    },
    {
      "cell_type": "code",
      "execution_count": null,
      "metadata": {
        "id": "vx0_V9MVdTjE"
      },
      "outputs": [],
      "source": [
        "import pandas as pd\n",
        "from sklearn.model_selection import train_test_split\n",
        "from sklearn.ensemble import RandomForestClassifier\n",
        "from sklearn.metrics import accuracy_score, precision_score, recall_score, f1_score, confusion_matrix, ConfusionMatrixDisplay\n",
        "import matplotlib.pyplot as plt\n",
        "import seaborn as sns"
      ]
    },
    {
      "cell_type": "markdown",
      "metadata": {
        "id": "jEupn_bOeKr2"
      },
      "source": [
        "Nesta célula, importamos bibliotecas essenciais para a análise de dados, divisão de dados de treino/teste, construção do modelo de Random Forest e avaliação de métricas como acurácia, precisão, recall e f1-score.\n",
        "\n",
        "***Bibliotecas:***\n",
        "\n",
        "`pandas: `Manipulação e análise de dados.\n",
        "\n",
        "`train_test_split` da sklearn: Divide os dados em treino e teste.\n",
        "\n",
        "`RandomForestClassifier da sklearn:` Modelo de aprendizado supervisionado para classificação.\n",
        "\n",
        "`accuracy_score, precision_score, recall_score, f1_score, confusion_matrix: `Funções para avaliar a performance do modelo.\n",
        "\n",
        "`matplotlib: `Biblioteca para visualizações gráficas.\n",
        "\n",
        "`seaborn:` Visualização de dados"
      ]
    },
    {
      "cell_type": "markdown",
      "metadata": {
        "id": "OCXms1oyg-S4"
      },
      "source": [
        "### **2. Carregamento e preparação o conjunto de dados**"
      ]
    },
    {
      "cell_type": "markdown",
      "metadata": {
        "id": "PMokNQEsv2e9"
      },
      "source": [
        "**Preparação dos Dados**\n",
        "\n",
        "Os dados utilizados nesse Colab já foram previamente tratados e preparados para a modelagem.\n",
        "\n",
        "O processo de preparação incluiu as seguintes etapas:\n",
        "\n",
        "`Limpeza dos Dados: `Remoção de valores ausentes (missing values) e tratamento adequado para colunas com dados faltantes.\n",
        "\n",
        "`Tratamento de Outliers: `Identificação e tratamento de valores atípicos (outliers) para garantir que eles não prejudiquem a performance dos modelos.\n",
        "\n",
        "`Codificação (Encoding) de Variáveis Categóricas:` As variáveis categóricas foram convertidas para um formato numérico utilizando técnicas de One-Hot Encoding, como `home_team_name_mapeado` e `away_team_name_mapeado`.\n"
      ]
    },
    {
      "cell_type": "code",
      "execution_count": null,
      "metadata": {
        "colab": {
          "base_uri": "https://localhost:8080/",
          "height": 296
        },
        "id": "gmikwr7Ieq8U",
        "outputId": "ae8a9f2e-f3ea-496d-fbdd-932750e45683"
      },
      "outputs": [],
      "source": [
        "df = pd.read_csv('arquivo_codificado.csv') # Carrega o conjunto de dados\n",
        "\n",
        "df['home_team_win'] = (df['home_team_goal_count'] > df['away_team_goal_count']).astype(int)\n",
        "\n",
        "df.head()"
      ]
    },
    {
      "cell_type": "markdown",
      "metadata": {
        "id": "piT9TZ6siX0E"
      },
      "source": [
        "### **3. Definição de Features e Alvos**"
      ]
    },
    {
      "cell_type": "markdown",
      "metadata": {
        "id": "_GDIbct-h7os"
      },
      "source": [
        "Definimos as variáveis independentes (features) usadas para prever o número de gols e a variável-alvo (target) que representa a quantidade total de gols (total_goal_count) e o vencedor (home_team_win)."
      ]
    },
    {
      "cell_type": "code",
      "execution_count": null,
      "metadata": {
        "id": "azzI7L4eepXo"
      },
      "outputs": [],
      "source": [
        "# Definir as features e o alvo\n",
        "\n",
        "features = ['Home Team Pre-Match xG', 'Away Team Pre-Match xG',\n",
        "             'home_team_shots_on_target', 'away_team_shots_on_target',\n",
        "             'minutes_per_goal_scored_overall', 'minutes_per_goal_conceded_overall',\n",
        "             'average_attendance_home', 'average_attendance_away']\n",
        "\n",
        "# Para previsão do total de gols\n",
        "target_total_goals = 'total_goal_count'\n",
        "\n",
        "# Para prever o time vencedor\n",
        "target_winner = 'home_team_win'\n",
        "\n",
        "# Separando as features e o alvo para total de gols\n",
        "X_total_goals = df[features]\n",
        "y_total_goals = df[target_total_goals]\n",
        "\n",
        "# Separando as features e o alvo para previsão do vencedor\n",
        "X_winner = df[features]\n",
        "y_winner = df[target_winner]\n"
      ]
    },
    {
      "cell_type": "markdown",
      "metadata": {
        "id": "QBHtynudiTFt"
      },
      "source": [
        "### **4. Divisão do Conjunto de Dados para Treino e Teste**"
      ]
    },
    {
      "cell_type": "markdown",
      "metadata": {
        "id": "HTDJEXoFiIET"
      },
      "source": [
        "Depois de preparados, os dados são divididos em conjuntos de treino e teste para evitar overfitting e garantir uma avaliação justa dos modelos. Essa divisão é feita com a função train_test_split da biblioteca sklearn, que permite que 80% dos dados sejam usados para o treinamento e 20% para os testes.\n",
        "\n",
        "**Parâmetros:**\n",
        "\n",
        "`test_size=0.2: `20% dos dados são reservados para teste.\n",
        "\n",
        "`random_state=42: `Garante a reprodutibilidade dos resulta"
      ]
    },
    {
      "cell_type": "code",
      "execution_count": null,
      "metadata": {
        "id": "BTOFe4rXemqk"
      },
      "outputs": [],
      "source": [
        "# Divide os dados para treino e teste para total de gols\n",
        "X_train_goals, X_test_goals, y_train_goals, y_test_goals = train_test_split(X_total_goals, y_total_goals, test_size=0.2, random_state=42)\n",
        "\n",
        "\n",
        "# Divide os dados para treino e teste para previsão do vencedor\n",
        "X_train_winner, X_test_winner, y_train_winner, y_test_winner = train_test_split(X_winner, y_winner, test_size=0.2, random_state=42)\n"
      ]
    },
    {
      "cell_type": "markdown",
      "metadata": {
        "id": "r4oIkqMaihT3"
      },
      "source": [
        "### **5. Treinamento do Modelo (Random Forest) para Total de Gols**"
      ]
    },
    {
      "cell_type": "markdown",
      "metadata": {
        "id": "D7zJ4zNUipc8"
      },
      "source": [
        "Um modelo de Random Forest é instanciado com 1000 árvores de decisão e treinado usando o conjunto de dados de treino para prever o total de gols.\n",
        "\n",
        "**Parâmetros:**\n",
        "\n",
        "`n_estimators=1000`: Define o número de árvores na floresta.\n",
        "\n",
        "`class_weight='balanced'`: Ajusta o peso das classes para lidar com classes desbalanceadas."
      ]
    },
    {
      "cell_type": "code",
      "execution_count": null,
      "metadata": {
        "colab": {
          "base_uri": "https://localhost:8080/",
          "height": 92
        },
        "id": "-1TIhlPqelbl",
        "outputId": "244daf1e-2cdd-412f-e4c0-b89081d6ae52"
      },
      "outputs": [],
      "source": [
        "# Usando modelo Random Forest para total de gols\n",
        "model_goals = RandomForestClassifier(n_estimators=1000, random_state=42, class_weight='balanced')\n",
        "\n",
        "# Treina o modelo com os dados de treinamento\n",
        "model_goals.fit(X_train_goals, y_train_goals)\n"
      ]
    },
    {
      "cell_type": "markdown",
      "metadata": {
        "id": "m2dsVJCDjGOz"
      },
      "source": [
        "### **6.1. Modelo para previsão para Total de Gols**\n",
        "\n",
        "Essa parte do código foca em gerar as previsões do modelo para o total de gols, avaliar o desempenho dessas previsões e visualizar os resultados utilizando uma matriz de confusão.\n",
        "\n",
        "Após a previsão, o modelo é avaliado com métricas como acurácia, precisão, recall e F1-score.\n",
        "\n",
        "**Métricas utilizadas:**\n",
        "\n",
        "`accuracy_score: `calcula a proporção de previsões corretas feitas pelo modelo em relação ao total de previsões feitas.\n",
        "\n",
        "`precision_score: `calcula a proporção de verdadeiros positivos em relação ao total de positivos previstos.\n",
        "\n",
        "`recall_score: `calcula a proporção de verdadeiros positivos em relação ao total de positivos reais.\n",
        "\n",
        "`f1_score:` média harmônica da precisão e do recall, proporcionando um equilíbrio entre os dois.\n"
      ]
    },
    {
      "cell_type": "code",
      "execution_count": null,
      "metadata": {
        "colab": {
          "base_uri": "https://localhost:8080/"
        },
        "id": "pXUwsvpheigj",
        "outputId": "f9891420-d804-4e0c-9a36-365988a44dbd"
      },
      "outputs": [],
      "source": [
        "# Faz as previsões no conjunto de teste\n",
        "y_pred_goals = model_goals.predict(X_test_goals)\n",
        "\n",
        "# Avaliação do modelo para total de gols\n",
        "print(f'Acurácia (Total de Gols): {accuracy_score(y_test_goals, y_pred_goals):.2f}')\n",
        "print(f'Precisão (Total de Gols): {precision_score(y_test_goals, y_pred_goals, average=\"weighted\"):.2f}')\n",
        "print(f'Recall (Total de Gols): {recall_score(y_test_goals, y_pred_goals, average=\"weighted\"):.2f}')\n",
        "print(f'F1-Score (Total de Gols): {f1_score(y_test_goals, y_pred_goals, average=\"weighted\"):.2f}')\n"
      ]
    },
    {
      "cell_type": "markdown",
      "metadata": {
        "id": "p1X2Nixy2EXP"
      },
      "source": [
        "**Matriz de Confusão para Previsão do Total de Gols**\n",
        "\n",
        "A matriz de confusão é gerada para avaliar a performance do modelo na previsão de número de gols.\n",
        "\n",
        "Isso é feito usando a função `confusion_matrix`."
      ]
    },
    {
      "cell_type": "code",
      "execution_count": null,
      "metadata": {
        "colab": {
          "base_uri": "https://localhost:8080/",
          "height": 564
        },
        "id": "rOZYk3kkj8e1",
        "outputId": "bab23c98-ea7b-48cc-d101-a07cff094698"
      },
      "outputs": [],
      "source": [
        "# Matriz de confusão para o total de gols\n",
        "cm_goals = confusion_matrix(y_test_goals, y_pred_goals)\n",
        "\n",
        "# Exibir a matriz de confusão usando seaborn\n",
        "plt.figure(figsize=(8, 6))\n",
        "sns.heatmap(cm_goals, annot=True, fmt='d', cmap='Blues', xticklabels=True, yticklabels=True)\n",
        "plt.title('Matriz de Confusão - Total de Gols')\n",
        "plt.xlabel('Previsão')\n",
        "plt.ylabel('Real')\n",
        "plt.show()\n"
      ]
    },
    {
      "cell_type": "markdown",
      "metadata": {
        "id": "Nx-dXteOKMZK"
      },
      "source": [
        "### **6.2. Modelo para previsão do vencedor do jogo**"
      ]
    },
    {
      "cell_type": "markdown",
      "metadata": {
        "id": "4pK_it0vNb76"
      },
      "source": [
        "`RandomForestClassifier:` Cria e treina um modelo Random Forest para prever o vencedor do jogo."
      ]
    },
    {
      "cell_type": "code",
      "execution_count": null,
      "metadata": {
        "colab": {
          "base_uri": "https://localhost:8080/"
        },
        "id": "6r1lwKW2KCs9",
        "outputId": "287646bd-e30e-4eee-9edb-f85a59727188"
      },
      "outputs": [],
      "source": [
        "# Modelo Random Forest para previsão do vencedor\n",
        "model_winner = RandomForestClassifier(n_estimators=1000, random_state=42, class_weight='balanced')\n",
        "\n",
        "# Treina o modelo com os dados de treinamento\n",
        "model_winner.fit(X_train_winner, y_train_winner)\n",
        "\n",
        "# Faz previsões no conjunto de teste\n",
        "y_pred_winner = model_winner.predict(X_test_winner)\n",
        "\n",
        "# Avaliação do modelo para previsão do vencedor\n",
        "print(f'Acurácia (Vencedor do Jogo): {accuracy_score(y_test_winner, y_pred_winner):.2f}')\n",
        "print(f'Precisão (Vencedor do Jogo): {precision_score(y_test_winner, y_pred_winner, average=\"weighted\"):.2f}')\n",
        "print(f'Recall (Vencedor do Jogo): {recall_score(y_test_winner, y_pred_winner, average=\"weighted\"):.2f}')\n",
        "print(f'F1-Score (Vencedor do Jogo): {f1_score(y_test_winner, y_pred_winner, average=\"weighted\"):.2f}')\n"
      ]
    },
    {
      "cell_type": "markdown",
      "metadata": {
        "id": "uqlh6KicMR2Q"
      },
      "source": [
        "**Matriz de Confusão para previsão do vencedor**\n",
        "\n",
        "Gera e exibe a matriz de confusão para o modelo de previsão do vencedor, utilizando as funções `confusion_matrix e ConfusionMatrixDisplay `.\n"
      ]
    },
    {
      "cell_type": "code",
      "execution_count": null,
      "metadata": {
        "colab": {
          "base_uri": "https://localhost:8080/",
          "height": 472
        },
        "id": "DEhleIOoKODw",
        "outputId": "d41dfdc4-c803-488f-e4e4-3b59fc462b95"
      },
      "outputs": [],
      "source": [
        "# Matriz de confusão para previsão do vencedor\n",
        "cm_winner = confusion_matrix(y_test_winner, y_pred_winner)\n",
        "disp_winner = ConfusionMatrixDisplay(confusion_matrix=cm_winner)\n",
        "disp_winner.plot(cmap=plt.cm.Blues)\n",
        "plt.title(\"Matriz de Confusão - Vencedor do Jogo\")\n",
        "plt.show()"
      ]
    },
    {
      "cell_type": "markdown",
      "metadata": {
        "id": "ifXwlu3Ief0s"
      },
      "source": [
        "### **6.3. Modelo para previsão da quantidade de gols para cada time, da casa e visitantes**"
      ]
    },
    {
      "cell_type": "markdown",
      "metadata": {
        "id": "9xTvVcDS3Nt-"
      },
      "source": [
        "Nesta parte do código, previsões são feitas para os gols da equipe da casa e gols da equipe visitante usando o modelo `model_goals`. A partir dessas previsões, o código calcula os resultados previstos (vitória da casa, vitória do visitante, ou empate) e os compara com os resultados reais."
      ]
    },
    {
      "cell_type": "code",
      "execution_count": null,
      "metadata": {
        "id": "_NzLjZn7ed0R"
      },
      "outputs": [],
      "source": [
        "y_pred_home_goals = model_goals.predict(X_test_goals)  # Previsão para os gols da casa\n",
        "y_pred_away_goals = model_goals.predict(X_test_goals)  # Previsão para os gols dos visitantes"
      ]
    },
    {
      "cell_type": "code",
      "execution_count": null,
      "metadata": {
        "colab": {
          "base_uri": "https://localhost:8080/"
        },
        "id": "oOYKXC9GeZDE",
        "outputId": "e31551a1-d346-4ce9-eaf0-183394a244c0"
      },
      "outputs": [],
      "source": [
        "# Define os resultados reais e previstos\n",
        "y_pred_results = []\n",
        "y_true_results = []\n",
        "\n",
        "\n",
        "# Define os resultados reais e previstos para cada jogo\n",
        "for i in range(len(y_test_goals)):\n",
        "    home_team_goals_real = df['home_team_goal_count'].iloc[i]\n",
        "    away_team_goals_real = df['away_team_goal_count'].iloc[i]\n",
        "\n",
        "    # Resultado real\n",
        "    if home_team_goals_real > away_team_goals_real:\n",
        "        y_true_results.append('home_win')\n",
        "    elif home_team_goals_real < away_team_goals_real:\n",
        "        y_true_results.append('away_win')\n",
        "    else:\n",
        "        y_true_results.append('draw')\n",
        "\n",
        "    # Resultado previsto\n",
        "    if y_pred_home_goals[i] > y_pred_away_goals[i]:\n",
        "        y_pred_results.append('home_win')\n",
        "    elif y_pred_home_goals[i] < y_pred_away_goals[i]:\n",
        "        y_pred_results.append('away_win')\n",
        "    else:\n",
        "        y_pred_results.append('draw')\n",
        "\n",
        "print(f'Acurácia (Resultado do Jogo): {accuracy_score(y_true_results, y_pred_results):.2f}')\n",
        "print(f'Precisão (Resultado do Jogo): {precision_score(y_true_results, y_pred_results, average=\"weighted\"):.2f}')\n",
        "print(f'Recall (Resultado do Jogo): {recall_score(y_true_results, y_pred_results, average=\"weighted\"):.2f}')\n",
        "print(f'F1-Score (Resultado do Jogo): {f1_score(y_true_results, y_pred_results, average=\"weighted\"):.2f}')\n"
      ]
    }
  ],
  "metadata": {
    "colab": {
      "provenance": []
    },
    "kernelspec": {
      "display_name": "Python 3",
      "name": "python3"
    },
    "language_info": {
      "name": "python"
    }
  },
  "nbformat": 4,
  "nbformat_minor": 0
}
