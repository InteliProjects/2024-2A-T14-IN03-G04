{
  "cells": [
    {
      "cell_type": "markdown",
      "metadata": {
        "id": "AT_XLeg4I3tN"
      },
      "source": [
        "# Pergunta: **Em qual etapa/tempo do jogo irá sair o primeiro gol?**"
      ]
    },
    {
      "cell_type": "markdown",
      "metadata": {
        "id": "Ruk7FhHtKG2g"
      },
      "source": [
        "# Análise do DataFrame de Times"
      ]
    },
    {
      "cell_type": "code",
      "execution_count": 2,
      "metadata": {
        "id": "tylEosp_lphf"
      },
      "outputs": [],
      "source": [
        "import pandas as pd\n",
        "import matplotlib.pyplot as plt\n",
        "import seaborn as sns\n",
        "\n",
        "#importantdo as bibliotecas necessárias para a visualização e manipulação dos dados"
      ]
    },
    {
      "cell_type": "code",
      "execution_count": null,
      "metadata": {
        "colab": {
          "base_uri": "https://localhost:8080/",
          "height": 1000
        },
        "id": "iXmyhMF4lvry",
        "outputId": "81167487-5830-4dd0-81b6-2fdd0c2dce06"
      },
      "outputs": [],
      "source": [
        "\n",
        "# Carregar o arquivo CSV\n",
        "file_path = '/content/drive/MyDrive/Colab Notebooks/brazil-serie-a-teams-2024-to-2024-stats (1) - brazil-serie-a-teams-2024-to-2024-stats (1).csv'\n",
        "df = pd.read_csv(file_path)\n",
        "\n",
        "\n",
        "#lê as primeiras 50 itens\n",
        "df.head(50)"
      ]
    },
    {
      "cell_type": "code",
      "execution_count": 7,
      "metadata": {
        "id": "_gK7LmlimEuk"
      },
      "outputs": [],
      "source": [
        "# Selecionar as colunas relevantes\n",
        "columns_to_use = [\n",
        "    'matches_played', 'wins', 'draw_percentage_overall', 'loss_percentage_ovearll',\n",
        "    'goals_scored_min_0_to_10', 'goals_scored_min_11_to_20', 'goals_scored_min_21_to_30',\n",
        "    'goals_conceded_min_0_to_10', 'goals_conceded_min_11_to_20', 'goals_conceded_min_21_to_30',\n",
        "    'goals_scored_min_31_to_40', 'goals_scored_min_41_to_50', 'goals_conceded_min_31_to_40',\n",
        "    'goals_conceded_min_41_to_50', 'wins_home', 'wins_away', 'loss_percentage_home', 'loss_percentage_away'\n",
        "]\n",
        "\n",
        "df_selected = df[columns_to_use]\n",
        "\n",
        "# Verificar e tratar valores ausentes\n",
        "df_selected = df_selected.fillna(df_selected.median())\n"
      ]
    },
    {
      "cell_type": "code",
      "execution_count": null,
      "metadata": {
        "colab": {
          "base_uri": "https://localhost:8080/"
        },
        "id": "qRFD29BPNftW",
        "outputId": "0bbdbb73-50de-4aee-b94f-d10e12c143bb"
      },
      "outputs": [],
      "source": [
        "df_selected.head(20)\n",
        "\n",
        "#visualizando a nova tabela com apenas as colunas selecionadas"
      ]
    },
    {
      "cell_type": "code",
      "execution_count": null,
      "metadata": {
        "colab": {
          "base_uri": "https://localhost:8080/"
        },
        "id": "jS0ZavwW2Dzz",
        "outputId": "0e5215e0-9702-4931-c740-e8887172c5ac"
      },
      "outputs": [],
      "source": [
        "pip install skimpy"
      ]
    },
    {
      "cell_type": "code",
      "execution_count": null,
      "metadata": {
        "colab": {
          "base_uri": "https://localhost:8080/"
        },
        "id": "CCD0IR7T2LX6",
        "outputId": "a957c7f7-df27-4d51-cc57-9998be8491da"
      },
      "outputs": [],
      "source": [
        "#analise descritiva\n",
        "import skimpy as sk\n",
        "sk.skim(df_selected)"
      ]
    },
    {
      "cell_type": "code",
      "execution_count": null,
      "metadata": {
        "colab": {
          "base_uri": "https://localhost:8080/"
        },
        "id": "vfdL87gj5giF",
        "outputId": "61d9b8fe-a374-42d8-a0be-359aeea7cdab"
      },
      "outputs": [],
      "source": [
        "duplicatas = df_selected[df_selected.duplicated()]\n",
        "print(duplicatas)\n",
        "\n",
        "#vendo se há dados duplicados"
      ]
    },
    {
      "cell_type": "code",
      "execution_count": null,
      "metadata": {
        "colab": {
          "base_uri": "https://localhost:8080/"
        },
        "id": "LPfTDO666FP0",
        "outputId": "691b91d1-4db7-43a5-a64d-a927470f4def"
      },
      "outputs": [],
      "source": [
        "df_selected.describe()\n",
        "\n",
        "#vendo a descrição da tabel"
      ]
    },
    {
      "cell_type": "code",
      "execution_count": null,
      "metadata": {
        "colab": {
          "base_uri": "https://localhost:8080/"
        },
        "id": "bnu1AXU46kWd",
        "outputId": "1e290c5f-356e-47a5-a6ab-e163261c8c16"
      },
      "outputs": [],
      "source": [
        "#vendo a formatação dos dados\n",
        "df_selected.info()"
      ]
    },
    {
      "cell_type": "code",
      "execution_count": null,
      "metadata": {
        "colab": {
          "base_uri": "https://localhost:8080/"
        },
        "id": "5h2cDIPfAIC1",
        "outputId": "f91c3d84-8c3b-4d6a-b0f6-8ceaf520d3b3"
      },
      "outputs": [],
      "source": [
        "import matplotlib.pyplot as plt\n",
        "import seaborn as sns\n",
        "import numpy as np\n",
        "\n",
        "numeric_data = df_selected.select_dtypes(include=[np.number])\n",
        "\n",
        "df_corr = numeric_data.corr()\n",
        "\n",
        "plt.figure(figsize=(10, 8))\n",
        "sns.heatmap(df_corr, annot=True, cmap='coolwarm', linewidths=0.5)\n",
        "plt.title('Matriz de Correlação')\n",
        "plt.show()\n",
        "#"
      ]
    },
    {
      "cell_type": "code",
      "execution_count": null,
      "metadata": {
        "colab": {
          "base_uri": "https://localhost:8080/"
        },
        "id": "hBWbid8IVQTD",
        "outputId": "0590e167-569c-4e8b-e5a7-f6ea156d5f04"
      },
      "outputs": [],
      "source": [
        "import matplotlib.pyplot as plt\n",
        "import seaborn as sns\n",
        "\n",
        "# Gráfico: Gols marcados nos primeiros 10 minutos e relação com vitórias\n",
        "plt.figure(figsize=(10, 6))\n",
        "sns.lineplot(x='goals_scored_min_0_to_10', y='wins', data=df_selected)\n",
        "plt.title('Relação entre Gols Marcados nos Primeiros 10 Minutos e Vitórias')\n",
        "plt.xlabel('Gols Marcados nos Primeiros 10 Minutos')\n",
        "plt.ylabel('Vitórias')\n",
        "plt.show()"
      ]
    },
    {
      "cell_type": "markdown",
      "metadata": {
        "id": "C297BtjmXexH"
      },
      "source": [
        "Hipótese: O Time que faz primeiro gol tem maior probabilidade de ganhar a partida\n",
        "\n",
        "Justificativa: A análise da matriz de correlação revela uma correlação positiva moderada entre a variável goals_scored_min_0_to_10 e o número de vitórias (wins) com um valor de +0.39. Isso sugere que equipes que conseguem marcar gols nos primeiros 10 minutos tendem a vencer mais partidas. Mesmo que esta correlação esteja ligada às vitórias, isso indica uma propensão significativa para que gols sejam marcados nesse período inicial da partida. Considerando que os primeiros minutos de jogo são caracterizados por estratégias mais ofensivas e pressão inicial por parte das equipes, é plausível supor que essa janela de tempo é crítica para a ocorrência de gols. A hipótese é que o primeiro gol da partida tem uma alta probabilidade de ocorrer nos primeiros 10 minutos, pois as equipes ainda estão ajustando suas táticas e os defensores podem estar mais vulneráveis a erros."
      ]
    },
    {
      "cell_type": "code",
      "execution_count": null,
      "metadata": {
        "colab": {
          "base_uri": "https://localhost:8080/"
        },
        "id": "I6D88AzzMqMr",
        "outputId": "68f68a6d-0b30-4fcc-b88f-16f42dcc0e44"
      },
      "outputs": [],
      "source": [
        "import matplotlib.pyplot as plt\n",
        "import seaborn as sns\n",
        "\n",
        "\n",
        "sns.scatterplot(x='goals_conceded_min_11_to_20', y=\"loss_percentage_ovearll\", data=df_selected)\n",
        "plt.title('Relação entre Gols Sofridos entre 11 e 20 Minutos e Derrotas')\n",
        "plt.xlabel('Gols Sofridos entre 11 e 20 Minutos')\n",
        "plt.ylabel('Porcentagem de Derrotas')\n",
        "plt.show()\n"
      ]
    },
    {
      "cell_type": "markdown",
      "metadata": {
        "id": "zmR8ybv2V4VS"
      },
      "source": [
        "Hipótese 2: A hipótese sugere que o intervalo de tempo entre os 11 e 20 minutos de uma partida é um período crítico em que é mais provável que o primeiro gol seja marcado, especialmente se as equipes estiverem mais vulneráveis a sofrer gols nessa fase do jogo. Essa suposição é baseada na observação da matriz de correlação, onde se nota uma relação moderada entre o número de gols sofridos nesse período específico e a porcentagem total de derrotas da equipe (com uma correlação de +0,56). Isso indica que quando uma equipe sofre gols entre os 11 e 20 minutos, há uma tendência maior de que a equipe perca o jogo.\n",
        "\n",
        "\n",
        "Correlação Moderada e Implicações Táticas: A correlação de +0,56 entre \"goals_conceded_min_11_to_20\" e \"loss_percentage_overall\" indica que há uma ligação considerável entre sofrer gols nesse período e o aumento da chance de derrotas. Esse período do jogo é geralmente onde as equipes ainda estão se ajustando após o início da partida, o que pode significar que elas não estão completamente sincronizadas taticamente, tornando-as mais suscetíveis a erros e, portanto, a sofrer gols.\n",
        "\n",
        "Atenção ao Primeiro Gol: O fato de que há uma relação entre sofrer gols nessa faixa de tempo e a perda da partida sugere que, para que uma equipe evite cair nessa estatística, ela precisa estar particularmente vigilante durante os 11 a 20 minutos. Isso faz deste período um provável momento em que o primeiro gol possa ser marcado, já que as equipes que dominam taticamente podem aproveitar a vulnerabilidade do adversário.\n",
        "\n",
        "Momento Decisivo no Jogo: Taticamente, os 11 a 20 minutos podem representar uma transição entre a fase inicial de estudo do adversário e o estabelecimento de estratégias de ataque ou defesa mais agressivas. Se uma equipe consegue ajustar sua tática rapidamente nesse período, ela pode marcar o primeiro gol e ganhar uma vantagem psicológica e estratégica. Da mesma forma, a equipe que sofre um gol nesse período pode perder a confiança e, possivelmente, a partida.\n",
        "\n",
        "Vulnerabilidade e Oportunidade: A vulnerabilidade defensiva nesse período não apenas expõe uma equipe ao risco de sofrer gols, mas também pode criar oportunidades para a equipe adversária capitalizar e marcar o primeiro gol. Essa oportunidade pode ser explorada por uma equipe que está taticamente preparada para esse momento crítico.\n",
        "\n"
      ]
    },
    {
      "cell_type": "code",
      "execution_count": null,
      "metadata": {
        "colab": {
          "base_uri": "https://localhost:8080/"
        },
        "id": "PhmBZ4gfMyD2",
        "outputId": "e1f4dd4f-9530-40d3-d1f0-24638408b991"
      },
      "outputs": [],
      "source": [
        "\n",
        "# Gráfico 3: Gols marcados entre 41 e 50 minutos e relação com vitórias\n",
        "plt.figure(figsize=(10, 6))\n",
        "sns.boxplot(x='goals_scored_min_41_to_50', y='wins', data=df_selected)\n",
        "plt.title('Distribuição de Gols Marcados entre 41 e 50 Minutos e Vitórias')\n",
        "plt.xlabel('Gols Marcados entre 41 e 50 Minutos')\n",
        "plt.ylabel('Vitórias')\n",
        "plt.show()"
      ]
    },
    {
      "cell_type": "markdown",
      "metadata": {
        "id": "oS7dnGMDVZaq"
      },
      "source": [
        "\n",
        "Hipótese: O Primeiro Gol Tem Boa Chance de Ser Marcado Nos Minutos Finais do Primeiro Tempo (41 a 50)\n",
        "\n",
        " A variável goals_scored_min_41_to_50 mostra uma correlação positiva moderada com vitórias (wins), com um valor de +0.45, indicando que gols marcados nesse período estão associados a um aumento na probabilidade de vitória. Nos minutos finais do primeiro tempo, as equipes tendem a intensificar seus esforços para abrir o placar antes do intervalo, enquanto as defesas podem estar mais desgastadas. Esse momento do jogo é caracterizado por uma mistura de cansaço físico e psicológico, o que pode levar a lapsos na defesa e oportunidades para ataques bem-sucedidos. Dessa forma, é razoável supor que o primeiro gol da partida pode frequentemente ocorrer nessa faixa de tempo, quando as equipes estão mais dispostas a assumir riscos para garantir uma vantagem antes do intervalo."
      ]
    },
    {
      "cell_type": "code",
      "execution_count": null,
      "metadata": {
        "colab": {
          "base_uri": "https://localhost:8080/"
        },
        "id": "XHCaKY4JNgwi",
        "outputId": "1f970c1b-dd4f-4396-b379-234f04d4ed36"
      },
      "outputs": [],
      "source": [
        "import matplotlib.pyplot as plt\n",
        "import seaborn as sns\n",
        "\n",
        "# Criando o gráfico de linha\n",
        "line_plot = sns.lineplot(x='goals_conceded_min_41_to_50', y='loss_percentage_ovearll', data=df_selected)\n",
        "\n",
        "# Ajustando o tamanho da figura\n",
        "plt.figure(figsize=(10, 6))\n",
        "\n",
        "# Definindo os rótulos dos eixos\n",
        "line_plot.set_xlabel('Gols Sofridos entre 41 e 50 Minutos')\n",
        "line_plot.set_ylabel('Porcentagem de Derrotas')\n",
        "\n",
        "# Definindo o título do gráfico\n",
        "line_plot.set_title('Relação entre Gols Sofridos entre 41 e 50 Minutos e Derrotas')\n",
        "\n",
        "# Exibindo o gráfico\n",
        "plt.show()\n"
      ]
    },
    {
      "cell_type": "markdown",
      "metadata": {
        "id": "Qewdeo29aVUz"
      },
      "source": [
        "Hipótese: Sofrer Gols Entre os Minutos 41 e 50 Está Fortemente Associado a uma Maior Percentagem de Derrotas (Loss Percentage Overall).\n",
        "Os minutos 41 a 50 marcam o final do primeiro tempo ou o início do segundo tempo, uma fase crítica no jogo. Sofrer um gol nessa fase pode ser psicológico e estrategicamente desvantajoso, já que as equipes podem entrar no intervalo ou iniciar o segundo tempo em desvantagem, o que impacta diretamente sua capacidade de reverter o resultado. Portanto, esta janela de tempo pode ser decisiva para o desfecho de uma partida, levando à hipótese de que sofrer gols entre os minutos 41 e 50 está fortemente associado a um aumento na porcentagem total de derrotas."
      ]
    },
    {
      "cell_type": "markdown",
      "metadata": {
        "id": "qmNiDW8wu3xe"
      },
      "source": [
        "# Análise do Dataframe de Partidas"
      ]
    },
    {
      "cell_type": "markdown",
      "metadata": {
        "id": "JUZ-o9Qe-ECQ"
      },
      "source": [
        "## EDA - Análise Exploratória dos Dados\n"
      ]
    },
    {
      "cell_type": "markdown",
      "metadata": {
        "id": "VHJ5juxFv5bg"
      },
      "source": [
        "- Importação das bibliotecas utilizadas\n",
        "- Leitura do DataFrame de Partidas\n",
        "- Entendimento dos dados\n",
        "- Estatistíca descritiva das colunas"
      ]
    },
    {
      "cell_type": "code",
      "execution_count": null,
      "metadata": {
        "id": "JW50FGtg8qS8"
      },
      "outputs": [],
      "source": [
        "# Importa as bibliotecas necessárias:\n",
        "# - pandas: para manipulação e análise de dados.\n",
        "# - seaborn e matplotlib: para visualização de dados.\n",
        "\n",
        "import pandas as pd\n",
        "import seaborn as sns\n",
        "import matplotlib.pyplot as plt\n",
        "import numpy as np"
      ]
    },
    {
      "cell_type": "code",
      "execution_count": null,
      "metadata": {
        "colab": {
          "base_uri": "https://localhost:8080/",
          "height": 895
        },
        "id": "ogcjHho29JnV",
        "outputId": "d97e67f7-8ccc-4d86-fd31-f363736105c5"
      },
      "outputs": [],
      "source": [
        "# Carrega os dados de um arquivo CSV para um DataFrame usando pandas.\n",
        "# O DataFrame 'df' agora contém todos os dados das partidas de futebol da Série A do Brasil.\n",
        "\n",
        "df = pd.read_csv(\"/content/brazil-serie-a-matches-2024-to-2024-stats_edit - brazil-serie-a-matches-2024-to-2024-stats_edit.csv\")\n",
        "df"
      ]
    },
    {
      "cell_type": "code",
      "execution_count": null,
      "metadata": {
        "colab": {
          "base_uri": "https://localhost:8080/",
          "height": 147
        },
        "id": "tgmXpivIMRQa",
        "outputId": "b7bc949e-51c5-4f36-b018-5d091345c840"
      },
      "outputs": [],
      "source": [
        "# Verifica a contagem dos diferentes valores na coluna 'status',\n",
        "# que pode ter valores como \"complete\", \"incomplete\" ou \"suspended\".\n",
        "# Filtra o DataFrame para manter apenas os jogos que foram completados.\n",
        "# Isso garante que a análise se concentre apenas em jogos finalizados.\n",
        "\n",
        "df[\"status\"].value_counts()\n",
        "# \"complete\", \"incomplete\", \"suspended\"\n",
        "\n",
        "df = df[df[\"status\"] == \"complete\"]\n",
        "\n",
        "df[\"status\"].value_counts()\n",
        "# \"complete\""
      ]
    },
    {
      "cell_type": "code",
      "execution_count": null,
      "metadata": {
        "colab": {
          "base_uri": "https://localhost:8080/",
          "height": 443
        },
        "id": "7ykMxtEg_REd",
        "outputId": "8a65dfdc-0818-40d8-8544-f790476b8c09"
      },
      "outputs": [],
      "source": [
        "# Seleciona um subconjunto de colunas relevantes para a análise,\n",
        "# limitando o DataFrame a essas colunas específicas.\n",
        "# Isso simplifica o conjunto de dados e foca a análise nas variáveis de interesse.\n",
        "\n",
        "columns = [\"home_team_name\",\n",
        "\"away_team_name\",\n",
        "\"home_team_goal_count_half_time\",\n",
        "\"away_team_goal_count_half_time\",\n",
        "\"home_team_shots_on_target\",\n",
        "\"away_team_shots_on_target\",\n",
        "\"home_team_possession\",\n",
        "\"away_team_possession\",\n",
        "\"team_a_xg\",\n",
        "\"team_b_xg\"]\n",
        "df = df[columns]\n",
        "\n",
        "df"
      ]
    },
    {
      "cell_type": "markdown",
      "metadata": {
        "id": "I3SJXeKncEJ0"
      },
      "source": [
        "## Estatística descritiva das colunas\n"
      ]
    },
    {
      "cell_type": "markdown",
      "metadata": {
        "id": "48FFuvtPvlkp"
      },
      "source": [
        "- Reconhecimento das colunas numéricas e categóricas\n",
        "  - O Skimpy gera um relatório, o qual subdivide as colunas por tipo de dado (number: int e/ou float) ou string; desse modo, é facilmente perceptível a divisão de colunas categóricas e númericas pelo tipo de dado.\n",
        "  - De forma complementar, ao trazer um contra exemplo, entende-se que existem colunas categóricas que possuem tipos de dados numéricos (como coluna de ID), ou vice-versa, colunas com tipos de dados de texto, que possuem uma grandeza numérica. Contudo, coincidentemente, nessa amostra de dados, as colunas categóricas possuem somente tipo de dado texto e as numéricas, valores numéricos - o que torna o seu reconhecimento e diferenciação, simples.\n",
        "- Estatística básica:\n",
        "  - Tipo de dados presentes\n",
        "  - Valores máximos e mínimos\n",
        "  - Média, Mediana, Moda e Desvio Padrão respectivos de cada coluna\n",
        "  - Divisão por quartis:"
      ]
    },
    {
      "cell_type": "code",
      "execution_count": null,
      "metadata": {
        "colab": {
          "base_uri": "https://localhost:8080/"
        },
        "id": "_I4yBJHuc7G9",
        "outputId": "0270c6b8-ec6d-43be-9499-16f309fc2f44"
      },
      "outputs": [],
      "source": [
        "# 'df.describe()' gera estatísticas descritivas para as colunas numéricas do DataFrame.\n",
        "# Depois, o código itera sobre as colunas numéricas, calculando e imprimindo a média e a mediana para cada uma.\n",
        "# Isso ajuda a entender a distribuição central das variáveis numéricas, que são importantes para a análise.\n",
        "\n",
        "df.describe()\n",
        "\n",
        "numerical_columns = df.select_dtypes(include=['number']).columns\n",
        "\n",
        "for col in numerical_columns:\n",
        "  median = df[col].median()\n",
        "  mean = df[col].mean()\n",
        "  mode = df[col].mode()\n",
        "  print(col, \": \")\n",
        "  print(\"Média: \", mean)\n",
        "  print(\"Mediana: \", median)\n",
        "  print(\"Moda: \", mode)\n",
        "  print()\n"
      ]
    },
    {
      "cell_type": "code",
      "execution_count": null,
      "metadata": {
        "colab": {
          "base_uri": "https://localhost:8080/",
          "height": 1000
        },
        "id": "TXylT2ymPMya",
        "outputId": "90e30d92-6b3c-4e8a-e1f4-e9e0c1c64dd4"
      },
      "outputs": [],
      "source": [
        "# Instala e importa a biblioteca Skimpy, que fornece uma descrição resumida das colunas do DataFrame,\n",
        "# como contagem de valores nulos, tipos de dados, etc.\n",
        "!pip install skimpy\n",
        "import skimpy as sk\n",
        "\n",
        "# 'sk.skim(df)' fornece uma visão rápida e abrangente das estatísticas básicas das colunas.\n",
        "# Essa descrição ajuda a identificar rapidamente a saúde dos dados e possíveis problemas a serem resolvidos.\n",
        "sk.skim(df)"
      ]
    },
    {
      "cell_type": "code",
      "execution_count": null,
      "metadata": {
        "colab": {
          "base_uri": "https://localhost:8080/",
          "height": 634
        },
        "id": "QSdZb_e38-P7",
        "outputId": "de0536c0-0110-423c-df97-8c69ab74716c"
      },
      "outputs": [],
      "source": [
        "# Conta os valores nulos em cada coluna do DataFrame e exibe o resultado.\n",
        "# Isso é importante para identificar lacunas nos dados que podem precisar de tratamento antes da análise ou modelagem.\n",
        "missing_values_count = df.isnull().sum()\n",
        "print(missing_values_count)\n",
        "\n",
        "df"
      ]
    },
    {
      "cell_type": "code",
      "execution_count": null,
      "metadata": {
        "colab": {
          "base_uri": "https://localhost:8080/",
          "height": 718
        },
        "id": "jJRI62P09eoB",
        "outputId": "ce917d53-dba0-4bfb-cec2-a5bdb2314562"
      },
      "outputs": [],
      "source": [
        "# 'df.info()' fornece um resumo do DataFrame, incluindo contagem de valores não nulos e tipos de dados.\n",
        "df.info()\n",
        "\n",
        "# Filtra as colunas do tipo 'object' (categóricas) usando 'select_dtypes'.\n",
        "# Isso ajuda a identificar quais colunas precisam ser codificadas para modelagem.\n",
        "df.select_dtypes(include=['object'])"
      ]
    },
    {
      "cell_type": "markdown",
      "metadata": {
        "id": "qgxyaZ18Tc4u"
      },
      "source": [
        "## Codificação de variáveis categóricas\n"
      ]
    },
    {
      "cell_type": "markdown",
      "metadata": {
        "id": "H-gyumf2vsbY"
      },
      "source": [
        "- Para a codificação das colunas categóricas, foi utilizado o método LabelEncoder() de sklearn.prepocessing"
      ]
    },
    {
      "cell_type": "code",
      "execution_count": null,
      "metadata": {
        "colab": {
          "base_uri": "https://localhost:8080/",
          "height": 443
        },
        "id": "fU4p85Y7TbE6",
        "outputId": "90d93aaa-1f9a-48a8-9a8b-96b0856de7fb"
      },
      "outputs": [],
      "source": [
        "# Codifica as colunas categóricas 'home_team_name' e 'away_team_name' em valores numéricos usando LabelEncoder.\n",
        "# Isso é necessário porque a maioria dos algoritmos de machine learning requer dados numéricos para treinamento.\n",
        "\n",
        "from sklearn.preprocessing import LabelEncoder\n",
        "label_encoder = LabelEncoder()\n",
        "df['home_team_name'] = label_encoder.fit_transform(df['home_team_name'])\n",
        "df['away_team_name'] = label_encoder.fit_transform(df['away_team_name'])\n",
        "\n",
        "df"
      ]
    },
    {
      "cell_type": "markdown",
      "metadata": {
        "id": "b4S33Os6Ak4r"
      },
      "source": [
        "## Detecção de Outliers\n"
      ]
    },
    {
      "cell_type": "markdown",
      "metadata": {
        "id": "-74yQr5Pvw1T"
      },
      "source": [
        "\n",
        "Método IQR foi escolhido\n",
        "- Amostragem reduzida de dados (cerca de 100 linhas)\n",
        "- Não se sabe se os dados seguem uma distribuição normal, para se aplicar métodos que dependem dessa distribuição\n",
        "- Uma das opções mais simples de implementar"
      ]
    },
    {
      "cell_type": "code",
      "execution_count": null,
      "metadata": {
        "colab": {
          "base_uri": "https://localhost:8080/",
          "height": 1000
        },
        "id": "gHNZtIVG8nYo",
        "outputId": "69587baf-4316-44ec-e5c3-763d06996c18"
      },
      "outputs": [],
      "source": [
        "# Identifica outliers em cada coluna do DataFrame usando a regra do IQR (Intervalo Interquartil).\n",
        "# Para cada coluna, calcula o primeiro quartil (Q1) e o terceiro quartil (Q3), e determina o IQR (Q3 - Q1).\n",
        "# Estabelece limites inferiores e superiores para identificar valores que se desviam significativamente do restante dos dados.\n",
        "# Armazena os índices dos outliers encontrados e, no final, cria um DataFrame contendo todas as linhas onde os outliers foram detectados.\n",
        "\n",
        "outliers_index_list = []\n",
        "\n",
        "for col in columns:\n",
        "  Q1 = df[col].quantile(0.25)\n",
        "  Q3 = df[col].quantile(0.75)\n",
        "  IQR = Q3 - Q1\n",
        "  # Definir limites para outliers\n",
        "  lower_bound = Q1 - 1.5 * IQR\n",
        "  upper_bound = Q3 + 1.5 * IQR\n",
        "  # Identificar outliers\n",
        "  outliers = df[(df[col] < lower_bound) | (df[col] > upper_bound)]\n",
        "\n",
        "  # Imprimir resultados\n",
        "  if outliers.empty:\n",
        "    print(col, \": \")\n",
        "    print(f\"Nenhum outlier encontrado em {col}\\n\")\n",
        "  else:\n",
        "    # Armazenar o índice do dicionário\n",
        "    outliers_index_list.extend(outliers.index.tolist())\n",
        "    print(col, \": \")\n",
        "    print(outliers[col], \"\\n\")\n",
        "\n",
        "# Remove duplicatas e ordena em ordem crescente\n",
        "outliers_index_list = set(outliers_index_list)\n",
        "outliers_index_list = sorted(outliers_index_list)\n",
        "\n",
        "# Exibe as linhas que contém outiers\n",
        "print(\"Linhas com outliers: \")\n",
        "print(outliers_index_list)\n",
        "\n",
        "# Criar um dataframe com as linhas com os índices reconhecidos\n",
        "outliers_df = pd.DataFrame()\n",
        "\n",
        "for index in outliers_index_list:\n",
        "  outlier_row = pd.Series(df.loc[index])\n",
        "  outliers_df = pd.concat([outliers_df, outlier_row.to_frame().T], axis=0)\n",
        "\n",
        "outliers_df\n"
      ]
    },
    {
      "cell_type": "code",
      "execution_count": null,
      "metadata": {
        "colab": {
          "base_uri": "https://localhost:8080/",
          "height": 397
        },
        "id": "_qmE3E_1I8SE",
        "outputId": "d6ecdd8c-6d6d-4c9e-8cdc-7d53aed2b3a0"
      },
      "outputs": [],
      "source": [
        "# Após uma análise minuciosa das linhas apresentadas, compreende-se sobre os outliers que:\n",
        "#  1. Os outliers representativos de placar no primeiro tempo, como casos de 3 ou 4 gols no primeiro tempo, embora improváveis, são possíveis.\n",
        "#     Desse modo, decide-se não retirar essas ocorrências, a fim de evitar um overfitting posterior do modelo\n",
        "#  2. Outliers representativos de gols esperados de um time podem ser relacionados a boa campanha de um time no campeonato\n",
        "#     Dessa forma, entende-se que a expectativa de 3.24 gols em um jogo, embora alta, também é possível. Decide-se manter.\n",
        "#  3. Embora seja possível realizar 19 chutes em direção ao gol, principalmente, em um jogo com um número de gols mais elevado;\n",
        "#     Percebe-se que esse valor é 4x mais alto que a média e pode impactar negativamente o modelo, então esse valor é substituído pela moda (5)\n",
        "\n",
        "# Acessa a célula do dataframe e altera o valor\n",
        "df.at[63, 'away_team_shots_on_target'] = 5\n",
        "\n",
        "# Exibe a mudança\n",
        "df.loc[63]"
      ]
    },
    {
      "cell_type": "markdown",
      "metadata": {
        "id": "IKjDMF-vUfzG"
      },
      "source": [
        "## Normalização das variáveis"
      ]
    },
    {
      "cell_type": "markdown",
      "metadata": {
        "id": "kGSRQAj3vdW4"
      },
      "source": [
        "\n",
        "- Com base no StandardScaler() do Sklearn.preprocessing\n",
        "- Normaliza transformando a média de todas as colunas numéricas em 0\n",
        "- Normaliza transformando o desvio padrão em uma unidade\n",
        "- Menos sensível a outliers do que métodos baseados em valores máximo e mínimo, como o MinMaxScaler()"
      ]
    },
    {
      "cell_type": "code",
      "execution_count": null,
      "metadata": {
        "id": "7oc-60is_fXS"
      },
      "outputs": [],
      "source": [
        "# Separa os dados em features (X) e a coluna-alvo (y).\n",
        "# Divide o DataFrame em conjuntos de treino (80%) e teste (20%) usando a função 'train_test_split'.\n",
        "# Isso garante que haja dados separados para avaliar o desempenho do modelo, evitando overfitting.\n",
        "\n",
        "from sklearn.model_selection import train_test_split\n",
        "\n",
        "X = df.drop(columns=[\"home_team_goal_count_half_time\"])\n",
        "y = df[\"home_team_goal_count_half_time\"]\n",
        "\n",
        "X_train, X_test, y_train, y_test = train_test_split(X, y, test_size=0.2, random_state=42)"
      ]
    },
    {
      "cell_type": "code",
      "execution_count": null,
      "metadata": {
        "id": "CKxXNtSkES7k"
      },
      "outputs": [],
      "source": [
        "# Aplica o StandardScaler para normalizar as features do conjunto de treino e teste.\n",
        "# Primeiro, ajusta o scaler aos dados de treino com 'fit', e depois transforma tanto o treino quanto o teste com 'transform'.\n",
        "# A normalização ajusta as variáveis para que tenham média 0 e desvio padrão 1, melhorando o desempenho dos modelos.\n",
        "\n",
        "from sklearn.preprocessing import StandardScaler\n",
        "\n",
        "scaler = StandardScaler()\n",
        "\n",
        "scaler.fit(X_train)\n",
        "X_train_scaled = scaler.transform(X_train)\n",
        "X_test_scaled = scaler.transform(X_test)"
      ]
    },
    {
      "cell_type": "markdown",
      "metadata": {
        "id": "Znla7qO0T7n3"
      },
      "source": [
        "## Hipóteses\n"
      ]
    },
    {
      "cell_type": "markdown",
      "metadata": {
        "id": "oaziaYJx5uKP"
      },
      "source": [
        "### Matriz de Correlação\n"
      ]
    },
    {
      "cell_type": "markdown",
      "metadata": {
        "id": "mOHMExZU8n6A"
      },
      "source": [
        "&emsp;&emsp;A matriz de correlação exibe o grau de relação entre diversas colunas com a coluna-alvo. Nesse contexto, analisa a relação de métricas de performance de um time, como chutes em direção ao gol, expectativa de gols (xG) e posse de bola, com o número de gols de um time no primeiro tempo.<br/>\n",
        "&emsp;&emsp;Cada célula no gráfico representa o coeficiente de correlação de Pearson entre dois conjuntos de dados, variando de -1 (correlação negativa perfeita) a +1 (correlação positiva perfeita). Nesse sentido, a interpretação da correlação das variáveis pode ser realizada com base nos nos valores de Pearson (ρ):<br/>\n",
        "- ρ = 0,9 a 1 (positivo ou negativo): correlação muito forte;\n",
        "- ρ = 0,7 a 0,9 (positivo ou negativo): correlação forte;\n",
        "- ρ = 0,5 a 0,7 (positivo ou negativo): correlação moderada;\n",
        "- ρ = 0,3 a 0,5 (positivo ou negativo): correlação fraca;\n",
        "- ρ = 0 a 0,3 (positivo ou negativo): não possui correlação significativa.<br/>\n",
        "\n",
        "&emsp;&emsp;Essa interpretação ajuda a entender o quão fortemente as variáveis estão relacionadas entre si, o que é crucial para a modelagem preditiva.\n",
        "\n"
      ]
    },
    {
      "cell_type": "code",
      "execution_count": null,
      "metadata": {
        "colab": {
          "base_uri": "https://localhost:8080/",
          "height": 905
        },
        "id": "MfdrYy7s5zye",
        "outputId": "36267888-739c-4886-c86e-b76042cd4aae"
      },
      "outputs": [],
      "source": [
        "# Selecionando apenas as colunas numéricas do DataFrame.\n",
        "# Isso é importante para calcular a matriz de correlação, que só faz sentido para dados numéricos.\n",
        "numeric_df = df.select_dtypes(include=[np.number])\n",
        "\n",
        "# Calculando a matriz de correlação entre as colunas numéricas.\n",
        "# A correlação mede a força e a direção da relação linear entre duas variáveis.\n",
        "correlation_matrix = numeric_df.corr()\n",
        "\n",
        "# Plotando a matriz de correlação utilizando um heatmap.\n",
        "# Este gráfico visualiza a matriz de correlação, facilitando a identificação de variáveis altamente correlacionadas (positiva ou negativamente).\n",
        "plt.figure(figsize=(10, 8))\n",
        "sns.heatmap(correlation_matrix, annot=True, cmap='coolwarm')\n",
        "plt.show()"
      ]
    },
    {
      "cell_type": "markdown",
      "metadata": {
        "id": "1HZOF0TW8W8H"
      },
      "source": [
        "#### Principais Observações\n",
        "&emsp;&emsp;Ao analisar a matriz de correlação, sobretudo, com enfoque nas colunas-alvo, _\"home_team_goal_count_half_time\"_ e _\"away_team_goal_count_half_time\"_, levanta-se as seguintes hipóteses:"
      ]
    },
    {
      "cell_type": "markdown",
      "metadata": {
        "id": "UJrDdElIafbG"
      },
      "source": [
        "### Hipótese 1\n",
        "- **Quanto maior o número de chutes em direção ao gol pelo time Visitante, maior chance do time Visitante pontuar no primeiro tempo**"
      ]
    },
    {
      "cell_type": "markdown",
      "metadata": {
        "id": "LDqvG04O-OkR"
      },
      "source": [
        "#### Justificativa\n",
        "&emsp;&emsp;A partir de uma tentativa de leitura lógica da partida de futebol, sugere-se que o maior número de chutes ao gol, pelo time Visitante, por exemplo, pode estar relacionado com uma probabilidade maior do time Visitante fazer um gol no primeiro tempo.<br/>\n",
        "&emsp;&emsp;Paralelamente, ao considerar a matriz de correlação entre as variáveis, a coluna _away_team_shots_on_target_ possui o maior coeficiente de correlação de pearson com a coluna-alvo, _away_team_goal_count_half_time_, em comparação às demais features - com uma correlação moderada de coeficiente **0,5**.<br/>\n",
        "&emsp;&emsp;Dessa forma, vale o estudo mais aprofundado da relação entre as duas variáveis apresentadas, com métodos mais avançados de seleção de features, a fim de validar, ou não, a hipótese levantada."
      ]
    },
    {
      "cell_type": "code",
      "execution_count": null,
      "metadata": {
        "colab": {
          "base_uri": "https://localhost:8080/",
          "height": 472
        },
        "id": "jMvgoF2e-Okf",
        "outputId": "9bd06659-223e-4641-c5fd-897e413bf2fa"
      },
      "outputs": [],
      "source": [
        "# Possessão de bola time Visitante\n",
        "# Gols no primeiro tempo pelo time Visitante\n",
        "\n",
        "sns.scatterplot(x='away_team_shots_on_target', y='away_team_goal_count_half_time', data=df)\n",
        "\n",
        "plt.title('Relação entre coluna_x e coluna_y ao longo do tempo')\n",
        "plt.xlabel('away_team_shots_on_target')\n",
        "plt.ylabel('away_team_goal_count_half_time')\n",
        "\n",
        "plt.show()"
      ]
    },
    {
      "cell_type": "markdown",
      "metadata": {
        "id": "ZyaSRLT5ZsvW"
      },
      "source": [
        "### Hipótese 2\n",
        "- **Quanto maior a expectativa de gols do time Visitante, maior chance do time Visitante pontuar no primeiro tempo**"
      ]
    },
    {
      "cell_type": "markdown",
      "metadata": {
        "id": "O1bp3WcB-Mbz"
      },
      "source": [
        "#### Justificativa\n",
        "&emsp;&emsp;A partir de uma tentativa de leitura lógica da partida de futebol, sugere-se que quanto maior for a expectativa de gols do time Visitante, maior é a probabilidade do time Visitante fazer gol no primeiro tempo .<br/>\n",
        "&emsp;&emsp;Paralelamente, ao considerar a matriz de correlação entre as variáveis, a coluna _team_b_xg_ possui o segundo maior coeficiente de correlação de pearson com a coluna-alvo, _away_team_goal_count_half_time_, em comparação às demais features - com uma correlação fraca de coeficiente **0,36**. Nesse sentido, vale ressaltar que, embora possua uma correlação fraca, é a segunda coluna com maior coeficiente de correlação.<br/>\n",
        "&emsp;&emsp;Dessa forma, vale o estudo mais aprofundado da relação entre as duas variáveis apresentadas, com métodos mais avançados de seleção de features, a fim de validar, ou não, a hipótese levantada."
      ]
    },
    {
      "cell_type": "code",
      "execution_count": null,
      "metadata": {
        "colab": {
          "base_uri": "https://localhost:8080/",
          "height": 472
        },
        "id": "FPkqZP-u-McF",
        "outputId": "d9699d9f-3e51-47a7-e54f-f456d53d62c8"
      },
      "outputs": [],
      "source": [
        "# Possessão de bola time da Casa\n",
        "# Gols no primeiro tempo pelo time da Casa\n",
        "\n",
        "sns.scatterplot(x='home_team_possession', y='home_team_goal_count_half_time', data=df)\n",
        "\n",
        "plt.title('Relação entre coluna_x e coluna_y ao longo do tempo')\n",
        "plt.xlabel('home_team_possession')\n",
        "plt.ylabel('home_team_goal_count_half_time')\n",
        "\n",
        "plt.show()"
      ]
    }
  ],
  "metadata": {
    "colab": {
      "provenance": []
    },
    "kernelspec": {
      "display_name": "Python 3",
      "name": "python3"
    },
    "language_info": {
      "name": "python"
    }
  },
  "nbformat": 4,
  "nbformat_minor": 0
}
