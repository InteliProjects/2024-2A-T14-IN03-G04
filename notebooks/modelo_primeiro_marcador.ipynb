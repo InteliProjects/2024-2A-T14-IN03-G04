{
  "cells": [
    {
      "cell_type": "markdown",
      "metadata": {
        "id": "XI0bgt5OPAwx"
      },
      "source": [
        "# Modelo Preditivo para qual jogador marcará o primeiro gol"
      ]
    },
    {
      "cell_type": "markdown",
      "metadata": {
        "id": "UL09SZBKPAw0"
      },
      "source": [
        "## Importação das bibliotecas"
      ]
    },
    {
      "cell_type": "code",
      "execution_count": null,
      "metadata": {
        "id": "t5mugKNoPAw1"
      },
      "outputs": [],
      "source": [
        "# Importação das bibliotecas necessárias\n",
        "import pandas as pd\n",
        "from sklearn.model_selection import train_test_split\n",
        "from sklearn.ensemble import RandomForestClassifier\n",
        "from sklearn.metrics import accuracy_score, confusion_matrix, ConfusionMatrixDisplay, precision_score, f1_score, recall_score\n",
        "import matplotlib.pyplot as plt"
      ]
    },
    {
      "cell_type": "markdown",
      "metadata": {
        "id": "7MpefiA8PAw2"
      },
      "source": [
        "&nbsp;&nbsp;&nbsp;&nbsp;Esse trecho de código importa as bibliotecas necessárias para trabalhar com dados, criar modelos preditivos, avaliar o desempenho do modelo, e visualizar os resultados:\n",
        "\n",
        "* **`pandas`** (`pd`): Permite criar, carregar, transformar, e manipular grandes conjuntos de dados com estruturas como `DataFrame`.\n",
        "\n",
        "* **`train_test_split`** (de `sklearn.model_selection`): Função usada para dividir o conjunto de dados em dois subconjuntos: um de treino (para treinar o modelo) e outro de teste (para avaliar o desempenho do modelo).\n",
        "\n",
        "* **`RandomForestClassifier`** (de `sklearn.ensemble`): Algoritmo de aprendizado de máquina supervisionado, usado para tarefas de classificação.\n",
        "\n",
        "* **`accuracy_score`** (de `sklearn.metrics`): Função para medir a acurácia de um modelo de classificação.\n",
        "\n",
        "* **`precision_score`** (de `sklearn.metrics`): Função para medir a precisão de um modelo de classificação.\n",
        "\n",
        "* **`recall_score`** (de `sklearn.metrics`): Função para medir a revocação de um modelo de classificação.\n",
        "\n",
        "* **`f1_score`** (de `sklearn.metrics`): Função para medir o f1_score de um modelo de classificação.\n",
        "\n",
        "* **`confusion_matrix` e `ConfusionMatrixDisplay`** (de `sklearn.metrics`): Exibe, de forma visual, a matriz de confusão - tabela que descreve o desempenho do modelo de classificação, mostrando quantas previsões foram corretas ou incorretas para cada classe.\n",
        "\n",
        "* **`matplotlib.pyplot`** (`plt`): Biblioteca para criação de gráficos e visualizações."
      ]
    },
    {
      "cell_type": "markdown",
      "metadata": {
        "id": "qfLXwBO2PAw2"
      },
      "source": [
        "## Carregamento do Conjunto de Dados"
      ]
    },
    {
      "cell_type": "code",
      "execution_count": null,
      "metadata": {
        "id": "YkOWgygbPAw3"
      },
      "outputs": [],
      "source": [
        "# Carregar os dados\n",
        "df = pd.read_csv('players.csv')"
      ]
    },
    {
      "cell_type": "markdown",
      "metadata": {
        "id": "t2ztsx-kPAw3"
      },
      "source": [
        "&nbsp;&nbsp;&nbsp;&nbsp;Nesse trecho de código, utiliza-se o Pandas para carregar um conjunto de dados (dataset) a partir do arquivo CSV chamado \"players.csv\".\n",
        "   - `pd.read_csv` é uma função do Pandas que lê um arquivo CSV e o transforma em um objeto DataFrame, que é uma estrutura de dados tabular usada para armazenar e manipular dados.\n",
        "   - O nome \"df\" é escolhido como nome da variável que armazena o DataFrame que contém os dados carregados do arquivo."
      ]
    },
    {
      "cell_type": "markdown",
      "metadata": {
        "id": "cQe4PDF0PAw3"
      },
      "source": [
        "## Separação entre features e alvo"
      ]
    },
    {
      "cell_type": "code",
      "execution_count": null,
      "metadata": {
        "id": "sTbVknhhPAw3"
      },
      "outputs": [],
      "source": [
        "# Features que serão usadas para treinar o modelo\n",
        "features = ['position', 'goals_overall', 'goals_home',\n",
        "            'goals_away', 'goals_per_90_overall', 'min_per_goal_overall',\n",
        "            'shots_on_target_per_90_overall', 'shot_accuraccy_percentage_overall',\n",
        "            'xg_per_90_overall', 'rank_in_club_top_scorer', 'minutes_played_overall',\n",
        "            'shots_on_target_per_game_overall', 'average_rating_overall']\n",
        "\n",
        "# Variável alvo\n",
        "target = 'possible_first_goal'\n",
        "\n",
        "# Separando as features e o alvo\n",
        "X = df[features]\n",
        "y = df[target]"
      ]
    },
    {
      "cell_type": "markdown",
      "metadata": {
        "id": "JDIU46pzPAw4"
      },
      "source": [
        "&nbsp;&nbsp;&nbsp;&nbsp;Neste trecho, estão sendo definindas as *features* (variáveis independentes) que serão usadas para treinar o modelo preditivo e também a variável alvo (variável dependente) que o modelo tentará prever.\n",
        "\n",
        "   - **`X = df[features]`**: Seleciona as colunas do `DataFrame` que correspondem às *features*, e armazena essas colunas na variável `X`.\n",
        "   \n",
        "   - **`y = df[target]`**: Extraindo a variável alvo do `DataFrame` e a armazena na variável `y`.\n",
        "\n",
        "&nbsp;&nbsp;&nbsp;&nbsp;Assim, `X` contém as variáveis *features* que o modelo usará para aprender, e `y` contém a variável que o modelo tentará prever."
      ]
    },
    {
      "cell_type": "markdown",
      "metadata": {
        "id": "E7Ql9nDyPAw4"
      },
      "source": [
        "## Divisão entre dados de treino e dados de teste"
      ]
    },
    {
      "cell_type": "code",
      "execution_count": null,
      "metadata": {
        "id": "mgMmWRGEPAw4"
      },
      "outputs": [],
      "source": [
        "# Divide os dados para treino e teste\n",
        "X_train, X_test, y_train, y_test = train_test_split(X, y, test_size=0.2, random_state=42)"
      ]
    },
    {
      "cell_type": "markdown",
      "metadata": {
        "id": "MFlzP9vUPAw4"
      },
      "source": [
        "&nbsp;&nbsp;&nbsp;&nbsp;A função `train_test_split` divide os dados entre um conjunto de treino e um conjunto de teste, que são usados para treinar e avaliar o modelo, respectivamente. Essa divisão garante que o modelo seja treinado com uma parte dos dados e avaliado em dados que ele nunca viu, prevenindo o overfitting.\n",
        "\n",
        "- **`test_size=0.3`**: Indica que 30% dos dados serão reservados para o conjunto de teste, enquanto os outros 70% serão usados para treino.\n",
        "\n",
        "- **`random_state=42`**: Define um valor fixo para o `random_state`, garantindo que a divisão entre treino e teste seja a mesma sempre que o código for executado.\n",
        "\n",
        "- **Conjunto de treino (`X_train`, `y_train`)**: Esses dados serão usados para treinar o modelo.\n",
        "  \n",
        "- **Conjunto de teste (`X_test`, `y_test`)**: Depois que o modelo é treinado, ele será testado neste conjunto de dados para verificar sua capacidade de prever corretamente a variável alvo em dados que não foram usados no treinamento."
      ]
    },
    {
      "cell_type": "markdown",
      "metadata": {
        "id": "vFIwdLh7PAw4"
      },
      "source": [
        "## Modelo"
      ]
    },
    {
      "cell_type": "code",
      "execution_count": null,
      "metadata": {
        "id": "JREyNSotPAw4"
      },
      "outputs": [],
      "source": [
        "# Cria o modelo Random Forest\n",
        "model = RandomForestClassifier(n_estimators=10000, random_state=42, class_weight='balanced')\n",
        "\n",
        "# Treina o modelo com os dados de treinamento\n",
        "model.fit(X_train, y_train)\n",
        "\n",
        "# Faz previsões no conjunto de teste\n",
        "y_pred = model.predict(X_test)"
      ]
    },
    {
      "cell_type": "markdown",
      "metadata": {
        "id": "JjS95NxuPAw4"
      },
      "source": [
        "&nbsp;&nbsp;&nbsp;&nbsp;Nesse trecho do código, ocorre a criação, o treinamento e a utilização de um modelo de *Random Forest* para fazer previsões. Vamos detalhar cada passo:\n",
        "\n",
        "- **`RandomForestClassifier`**: Algoritmo de classificação baseado em um conjunto de árvores de decisão, ele cria várias árvores de decisão em diferentes subconjuntos dos dados e combina suas previsões para produzir uma previsão mais precisa.\n",
        "  \n",
        "- **`n_estimators=100`**: Define o número de árvores que serão criadas no modelo.\n",
        "  \n",
        "- **`random_state=42`**: Define uma semente para o gerador de números aleatórios, garantindo que os resultados sejam reprodutíveis.\n",
        "\n",
        "- **`X_train`**: Contém as *features*.\n",
        "\n",
        "- **`y_train`**: Contém a variável alvo.\n",
        "\n",
        "&nbsp;&nbsp;&nbsp;&nbsp;Após treinar o modelo, usa-se o conjunto de teste `X_test` para fazer previsões. O método `predict()` usa os dados de entrada de teste  para gerar previsões da variável alvo correspondente. As previsões são armazenadas na variável `y_pred`."
      ]
    },
    {
      "cell_type": "markdown",
      "metadata": {
        "id": "lDqjNIf4PAw5"
      },
      "source": [
        "## Avaliação do modelo"
      ]
    },
    {
      "cell_type": "code",
      "execution_count": null,
      "metadata": {
        "colab": {
          "base_uri": "https://localhost:8080/"
        },
        "id": "4O76pflSPAw5",
        "outputId": "fe9ca0c0-f346-45c2-c1e7-68a6b9ef0e6a"
      },
      "outputs": [],
      "source": [
        "# Calcula a acurácia do modelo\n",
        "accuracy = accuracy_score(y_test, model.predict(X_test))\n",
        "print(f'Acurácia: {accuracy:.2f}') # Imprime o valor calculado"
      ]
    },
    {
      "cell_type": "markdown",
      "metadata": {
        "id": "0Ss2tJddPAw5"
      },
      "source": [
        "&nbsp;&nbsp;&nbsp;&nbsp;A função `accuracy_score`, no trecho de código acima, é usada para calcular a acurácia de um modelo de classificação. Ela compara os rótulos verdadeiros com as previsões do modelo e retorna a fração de previsões corretas.\n",
        "\n",
        "- **`model.predict(X_test)`**: O modelo treina em dados de treino e faz previsões sobre os dados de teste (`X_test`).\n",
        "\n",
        "- **`accuracy_score(y_test, model.predict(X_test))`**: A função `accuracy_score` compara os rótulos reais (`y_test`) com as previsões feitas pelo modelo e calcula a proporção de previsões corretas, ou seja, a acurácia. O resultado é armazenado na variável `accuracy`.\n",
        "\n",
        "&nbsp;&nbsp;&nbsp;&nbsp;A acurácia de 0.73 significa que 73% das previsões do modelo foram corretas, o que pode indicar um bom desempenho, mas também pode ser consequência de *overfitting* ou algum outro erro, por isso é importante checar outras métricas."
      ]
    },
    {
      "cell_type": "code",
      "execution_count": null,
      "metadata": {
        "colab": {
          "base_uri": "https://localhost:8080/"
        },
        "id": "3yaBml-YPAw6",
        "outputId": "4749f796-791c-4231-e786-0d07e2f98e7f"
      },
      "outputs": [],
      "source": [
        "# Calcula a precisão para o modelo\n",
        "precision = precision_score(y_test, model.predict(X_test))\n",
        "print(f'Precisão: {precision:.2f}') # Imprime o valor calculado"
      ]
    },
    {
      "cell_type": "markdown",
      "metadata": {
        "id": "_er29H8qPAw6"
      },
      "source": [
        "&nbsp;&nbsp;&nbsp;&nbsp;A função `precision_score` da biblioteca `scikit-learn` é usada para calcular a precisão (precision) de um modelo, isto é, a proporção de verdadeiros positivos (VP) em relação ao total de instâncias classificadas como positivas (a soma de verdadeiros positivos e falsos positivos).\n",
        "\n",
        "- **`model.predict(X_test)`**: O método `predict` do modelo faz previsões com base no conjunto de dados de teste (`X_test`), retornando as classes previstas.\n",
        "\n",
        "- **`precision_score(y_test, model.predict(X_test))`**: A função `precision_score` compara os rótulos reais (`y_test`) com as previsões feitas pelo modelo (`y_pred`) e calcula a **precisão**.\n",
        "\n",
        "- **`print(f'Precisão: {precision:.2f}')`**: Exibe a precisão calculada com duas casas decimais.\n",
        "\n",
        "&nbsp;&nbsp;&nbsp;&nbsp;A precisão é uma métrica importante para avaliar a presença de falsos positivos; entretanto, para a identificação correta de todos os positivos, outras métricas como revocação (recall) ou F1-score (média harmônica entre precisão e revocação) devem ser analisadas em conjunto. Uma precisão de 0.21 significa que, das previsões feitas pelo modelo para uma determinada classe positiva, apenas 21% estavam corretas, ou seja, o modelo apresenta uma baixa precisão. Ele faz muitas previsões incorretas para a classe positiva (classificando erroneamente muitas instâncias como positivas). Algumas das possíveis causas para a baixa precisão são:\n",
        "\n",
        "- **Desequilíbrio de classes**: Como a classe positiva é rara em comparação com a negativa, o modelo pode estar classificando erroneamente muitas instâncias como positivas, resultando em uma precisão baixa.\n",
        "   \n",
        "- **Overfitting ou Underfitting**: O modelo pode não estar capturando bem os padrões dos dados. Pode estar ajustando demais (overfitting) ou generalizando pouco (underfitting).\n",
        "\n",
        "- **Falta de dados ou variáveis relevantes**: As informações selecionadas podem não estar sendo suficientes ou relevantes para fazer previsões precisas.\n"
      ]
    },
    {
      "cell_type": "code",
      "execution_count": null,
      "metadata": {
        "colab": {
          "base_uri": "https://localhost:8080/"
        },
        "id": "-FTtU8lBPAw6",
        "outputId": "f70abf43-3641-41d2-eb86-a0ef34fa1b46"
      },
      "outputs": [],
      "source": [
        "# Calcula o recall para o modelo\n",
        "recall = recall_score(y_test, model.predict(X_test))\n",
        "print(f'Recall: {recall:.2f}') # Imprime o valor calculado"
      ]
    },
    {
      "cell_type": "markdown",
      "metadata": {
        "id": "B_2RrkFGPAw7"
      },
      "source": [
        "&nbsp;&nbsp;&nbsp;&nbsp;A função `recall_score` da biblioteca `scikit-learn` é usada para calcular o recall (ou revocação) de um modelo, ou seja, a proporção de verdadeiros positivos (VP) em relação ao total de instâncias que realmente pertencem à classe positiva (a soma de verdadeiros positivos e falsos negativos). Assim, ele mede a capacidade do modelo de identificar corretamente as instâncias positivas, ou seja, quantos dos exemplos que realmente pertencem à classe positiva o modelo conseguiu capturar; logo a revocação é importante quando os falsos negativos têm um custo elevado.\n",
        "\n",
        "- **`model.predict(X_test)`**: O modelo faz previsões com base no conjunto de dados de teste (`X_test`), retornando as classes previstas.\n",
        "\n",
        "- **`recall_score(y_test, model.predict(X_test))`**: A função `recall_score` compara os rótulos reais (`y_test`) com as previsões do modelo e calcula a **revocação**.\n",
        "   \n",
        "- **`print(f'Recall: {recall:.2f}')`**: Exibe a revocação calculada com duas casas decimais.\n",
        "\n",
        "&nbsp;&nbsp;&nbsp;&nbsp;Um recall de 0.82 significa que o modelo foi capaz de identificar corretamente 82% das instâncias da classe positiva; desse modo, de todos os exemplos que realmente pertencem à classe positiva, o modelo acertou 80%. Portanto, o modelo é bom em identificar as instâncias positivas."
      ]
    },
    {
      "cell_type": "code",
      "execution_count": null,
      "metadata": {
        "colab": {
          "base_uri": "https://localhost:8080/"
        },
        "id": "uFOXZLuhPAw7",
        "outputId": "9d3485b4-e8b9-4d51-db6a-e4c0a38bdab9"
      },
      "outputs": [],
      "source": [
        "# Calcula o f1_score para o modelo\n",
        "f1 = f1_score(y_test, model.predict(X_test))\n",
        "print(f'F1-Score: {f1:.2f}') # Imprime o valor calculado"
      ]
    },
    {
      "cell_type": "markdown",
      "metadata": {
        "id": "lTuNQ3pwPAw7"
      },
      "source": [
        "&nbsp;&nbsp;&nbsp;&nbsp;A função `f1_score` da biblioteca `scikit-learn` é usada para calcular o F1-score, ou seja, a média harmônica entre a precisão e a revocação, proporcionando um equilíbrio entre essas duas métricas.\n",
        "\n",
        "- **`model.predict(X_test)`**: O modelo faz previsões usando o conjunto de dados de teste (`X_test`).\n",
        "\n",
        "- **`f1_score(y_test, model.predict(X_test))`**: A função `f1_score` compara as previsões feitas pelo modelo com os rótulos reais (`y_test`) e calcula o **F1-score**.\n",
        "\n",
        "- **`print(f'F1-Score: {f1:.2f}')`**: Exibe o F1-score calculado com duas casas decimais.\n",
        "\n",
        "&nbsp;&nbsp;&nbsp;&nbsp;Assim, essa métrica é útil quando as classes estão desbalanceadas, caso do modelo, ou quando não se quer priorizar precisão em detrimento de revocação ou vice-versa; portanto, essa métrica enquadra-se no modelo apresentado.\n",
        "\n",
        "&nbsp;&nbsp;&nbsp;&nbsp;Um F1-Score de 0.33 indica que o modelo tem um desempenho baixo ao equilibrar precisão e recall; portanto, esse modelo tem um equilíbrio ruim entre identificar corretamente as instâncias positivas e minimizar os falsos positivos. A causas para o F1-score baixo é a baixa precisão do modelo; assim, para melhorar essa métrica, é necessário melhorar a precisão do modelo.\n"
      ]
    },
    {
      "cell_type": "code",
      "execution_count": null,
      "metadata": {
        "colab": {
          "base_uri": "https://localhost:8080/",
          "height": 472
        },
        "id": "jodunQcqPAw8",
        "outputId": "8da4c621-d82e-4296-c6e7-05eafc23964f"
      },
      "outputs": [],
      "source": [
        "# Cria a matriz de confusão para o modelo\n",
        "cm = confusion_matrix(y_test, model.predict(X_test))\n",
        "disp = ConfusionMatrixDisplay(confusion_matrix=cm)\n",
        "disp.plot(cmap=plt.cm.Blues)\n",
        "plt.title(\"Matriz de Confusão\")\n",
        "plt.show()\n"
      ]
    },
    {
      "cell_type": "markdown",
      "metadata": {
        "id": "taHAA4k5PAw8"
      },
      "source": [
        "&nbsp;&nbsp;&nbsp;&nbsp;Esse trecho de código gera e exibe uma matriz de confusão para o modelo, utilizando a biblioteca `scikit-learn` para a construção da matriz e o `matplotlib` para a visualização gráfica. A Matriz de confusão é uma tabela que mostra a contagem de previsões corretas e incorretas e que tem a seguinte estrutura:\n",
        "\n",
        "|   | 0                     | 1                    |\n",
        "|---|------------------------|----------------------|\n",
        "| 0 | Verdadeiros Positivos   | Falsos Negativos     |\n",
        "| 1 | Falsos Positivos        | Verdadeiros Negativos|\n",
        "\n",
        "&nbsp;&nbsp;&nbsp;&nbsp;Onde:\n",
        "\n",
        "- **Verdadeiros Positivos (1729)**: Indica jogadores que não marcaram o primeiro gol nem foram preditos para marcar.\n",
        "\n",
        "- **Falsos Negativos (659)**: Indica os jogadores que foram preditos para marcar mas não marcaram.\n",
        "\n",
        "- **Falsos Positivos (39)**: Indica os jogadores que não foram preditos para marcar mas marcaram.\n",
        "\n",
        "- **Verdadeiros Negativos (174)**: Indica os jogadores que foram preditos para marcar o primeiro gol e marcaram.\n",
        "\n",
        "- **`cm = confusion_matrix(y_test, model.predict(X_test))`**: Compara os rótulos reais (`y_test`) com as previsões feitas pelo modelo (`model.predict(X_test)`) e cria a matriz de confusão.\n",
        "\n",
        "- **`disp = ConfusionMatrixDisplay(confusion_matrix=cm)`**: O objeto `disp` é inicializado com a matriz de confusão (`cm`) gerada anteriormente.\n",
        "\n",
        "- **`disp.plot(cmap=plt.cm.Blues)`**: A função `plot` exibe a matriz de confusão como um gráfico. O parâmetro `cmap=plt.cm.Blues` indica que o mapa de cores \"Blues\" será utilizado para colorir a matriz, onde valores mais altos terão tons de azul mais escuros e valores mais baixos terão tons mais claros.\n",
        "\n",
        "- **`plt.title(\"Matriz de Confusão\")`**: Define o título do gráfico como \"Confusion Matrix\".\n",
        "\n",
        "- **`plt.show()`**: Exibe o gráfico gerado com a matriz de confusão na tela.\n",
        "\n",
        "&nbsp;&nbsp;&nbsp;&nbsp;No gráfico resultante, há uma matriz 2x2 com os valores preenchidos em cada célula e tons de azul, onde as células com maiores valores terão uma cor mais escura, e as células com menores valores terão cores mais claras. Essa visualização é útil para entender como o modelo está se saindo em cada classe e onde ele está cometendo erros.\n"
      ]
    },
    {
      "cell_type": "markdown",
      "metadata": {
        "id": "jK8vL9vKPAw8"
      },
      "source": [
        "&nbsp;&nbsp;&nbsp;&nbsp;Com base nas métricas apresentadas, depreende-se que o modelo está classificando erroneamente muitas instâncias como positivas, ou seja, ele prediz, incorretamente, muitos jogadores para marcar. Assim, a tendência do modelo é errar na questão que ele precisa responder; logo, é preciso aumentar a precisão, a fim de obter um melhor resultado."
      ]
    },
    {
      "cell_type": "markdown",
      "metadata": {
        "id": "P2NUZOcAPAw8"
      },
      "source": [
        "## Selecionar jogos"
      ]
    },
    {
      "cell_type": "code",
      "execution_count": null,
      "metadata": {
        "colab": {
          "base_uri": "https://localhost:8080/"
        },
        "id": "j01SkSg6PAw8",
        "outputId": "024a48d3-5895-4157-de58-b8f2e2766fc7"
      },
      "outputs": [],
      "source": [
        "def predict_first_goal_with_probabilities(home_team, opponent, df):\n",
        "    # Selecionar os dados em que há o home_team e o opponent\n",
        "    selected_data = df[((df['home_team_name'] == home_team) & (df['opponent'] == opponent)) |\n",
        "                       ((df['home_team_name'] == opponent) & (df['opponent'] == home_team))].copy()\n",
        "\n",
        "    # Verifica se há dados suficientes\n",
        "    if selected_data.empty:\n",
        "        return \"Dados insuficientes para os times selecionados.\"\n",
        "\n",
        "    # Faz previsões com probabilidades para os jogadores dos times selecionados\n",
        "    probabilities = model.predict_proba(selected_data[features])\n",
        "\n",
        "    # Armazena as probabilidades em goal_probabilities\n",
        "    goal_probabilities = probabilities[:, 1]\n",
        "\n",
        "    # Adiciona a coluna de probabilidade ao DataFrame selecionado\n",
        "    selected_data.loc[:, 'goal_probability'] = goal_probabilities\n",
        "\n",
        "    # Ordenar os jogadores pela maior probabilidade de marcar o primeiro gol\n",
        "    selected_data_sorted = selected_data.sort_values(by='goal_probability', ascending=False)\n",
        "\n",
        "    # Obtem os nomes dos jogadores com suas respectivas probabilidades\n",
        "    goal_scorers = selected_data_sorted[['full_name', 'goal_probability']]\n",
        "\n",
        "    # Filtra jogadores com probabilidade maior que 0.7\n",
        "    goal_scorers_filtered = goal_scorers[goal_scorers['goal_probability'] > 0.7].head(1)\n",
        "\n",
        "    # Verifica se não há jogadores com probabilidade significativa\n",
        "    if goal_scorers_filtered.empty:\n",
        "        return \"Nenhum jogador com alta probabilidade de marcar o primeiro gol na partida.\"\n",
        "\n",
        "    # Armazena em player o jogador com a maior probabilidade de marcar\n",
        "    player = goal_scorers_filtered['full_name'].values[0]\n",
        "\n",
        "    # Retorna o nome do jogador com maior probabilidade\n",
        "    return player\n",
        "\n",
        "# Iteração para rodar a função para todas as possibilidades de jogos\n",
        "for team in df['home_team_name'].unique():\n",
        "    home_team = team\n",
        "    for opponent in df['home_team_name'].unique():\n",
        "        if home_team != opponent:\n",
        "            print(f'{home_team} x {opponent}: {predict_first_goal_with_probabilities(home_team, opponent, df)}')"
      ]
    },
    {
      "cell_type": "markdown",
      "metadata": {
        "id": "lIMeQoL5PAw9"
      },
      "source": [
        "&nbsp;&nbsp;&nbsp;&nbsp;A função `predict_first_goal_with_probabilities` tenta prever qual jogador tem a maior probabilidade de marcar o primeiro gol em uma partida entre dois times, utilizando um modelo previamente treinado.\n",
        "\n",
        "   ```python\n",
        "   selected_data = df[((df['home_team_name'] == home_team) & (df['opponent'] == opponent)) |\n",
        "                      ((df['home_team_name'] == opponent) & (df['opponent'] == home_team))].copy()\n",
        "   ```\n",
        "   - A linha acima filtra os dados do DataFrame para selecionar os jogos em que o time da casa (`home_team`) jogou contra o adversário (`opponent`), ou vice-versa. O `.copy()` é usado para evitar a modificação direta do DataFrame original.\n",
        "\n",
        "   ```python\n",
        "   if selected_data.empty:\n",
        "       return \"Dados insuficientes para os times selecionados.\"\n",
        "   ```\n",
        "   - Verifica se há dados suficientes para fazer previsões sobre essa combinação de times. Se o DataFrame filtrado estiver vazio, a função retorna uma mensagem informando que não há dados.\n",
        "\n",
        "   ```python\n",
        "   probabilities = model.predict_proba(selected_data[features])\n",
        "   goal_probabilities = probabilities[:, 1]\n",
        "   ```\n",
        "   - Usa o modelo (`model`) para prever as probabilidades de cada jogador marcar o primeiro gol. O método `predict_proba` retorna as probabilidades para cada classe (não marcar e marcar) e armazena-se a probabilidade de o jogador marcar o primeiro gol em `goal_probabilities`.\n",
        "\n",
        "   ```python\n",
        "   selected_data.loc[:, 'goal_probability'] = goal_probabilities\n",
        "   ```\n",
        "   - Adiciona uma nova coluna ao DataFrame (`selected_data`), chamada `'goal_probability'`, onde são armazenadas as probabilidades de cada jogador marcar o primeiro gol.\n",
        "\n",
        "   ```python\n",
        "   selected_data_sorted = selected_data.sort_values(by='goal_probability', ascending=False)\n",
        "   goal_scorers = selected_data_sorted[['full_name', 'goal_probability']]\n",
        "   ```\n",
        "   - O DataFrame é ordenado em ordem decrescente de probabilidade, para que os jogadores com maior chance de marcar o primeiro gol apareçam primeiro. Em seguida, o código seleciona apenas as colunas com o nome completo dos jogadores (`full_name`) e suas respectivas probabilidades (`goal_probability`).\n",
        "\n",
        "   ```python\n",
        "   goal_scorers_filtered = goal_scorers[goal_scorers['goal_probability'] > 0.7].head(1)\n",
        "   ```\n",
        "   - Filtra os jogadores que têm probabilidade maior que 0.7 de marcar o primeiro gol e seleciona apenas o jogador com maior probabilidade.\n",
        "\n",
        "   ```python\n",
        "   if goal_scorers_filtered.empty:\n",
        "       return \"Nenhum jogador com alta probabilidade de marcar o primeiro gol na partida.\"\n",
        "   ```\n",
        "   - Caso nenhum jogador tenha uma probabilidade superior a 0.7, a função retorna uma mensagem indicando que nenhum jogador tem alta probabilidade de marcar o primeiro gol.\n",
        "\n",
        "   ```python\n",
        "   player = goal_scorers_filtered['full_name'].values[0]\n",
        "   return player\n",
        "   ```\n",
        "   - Se houver um jogador com alta probabilidade, a função retorna o nome completo do jogador com a maior probabilidade.\n",
        "\n",
        "   ```python\n",
        "   for team in df['home_team_name'].unique():\n",
        "       home_team = team\n",
        "       for opponent in df['home_team_name'].unique():\n",
        "           if home_team != opponent:\n",
        "               print(f'{home_team} x {opponent}: {predict_first_goal_with_probabilities(home_team, opponent, df)}')\n",
        "   ```\n",
        "   - Por fim, ocorre a iteração sobre todos os times presentes no DataFrame e a comparação de cada time com todos os outros, imprimindo a mensagem retornada pela função."
      ]
    }
  ],
  "metadata": {
    "accelerator": "GPU",
    "colab": {
      "gpuType": "T4",
      "provenance": []
    },
    "kernelspec": {
      "display_name": "Python 3",
      "name": "python3"
    },
    "language_info": {
      "codemirror_mode": {
        "name": "ipython",
        "version": 3
      },
      "file_extension": ".py",
      "mimetype": "text/x-python",
      "name": "python",
      "nbconvert_exporter": "python",
      "pygments_lexer": "ipython3",
      "version": "3.12.3"
    }
  },
  "nbformat": 4,
  "nbformat_minor": 0
}
